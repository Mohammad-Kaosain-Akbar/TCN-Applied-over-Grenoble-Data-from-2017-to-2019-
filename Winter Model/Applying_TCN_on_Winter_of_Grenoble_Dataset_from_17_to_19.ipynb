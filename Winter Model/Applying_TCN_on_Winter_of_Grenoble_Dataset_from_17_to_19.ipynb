{
  "cells": [
    {
      "cell_type": "code",
      "execution_count": 1,
      "id": "fbbe8813",
      "metadata": {
        "id": "fbbe8813"
      },
      "outputs": [],
      "source": [
        "import numpy as np\n",
        "import pandas as pd\n",
        "import matplotlib.pyplot as plt\n",
        "%matplotlib inline\n",
        "from IPython.display import display\n",
        "import datetime\n",
        "import time\n",
        "import math\n",
        "import warnings\n",
        "warnings.filterwarnings(\"ignore\")\n",
        "import glob\n",
        "\n",
        "import matplotlib as mpl\n",
        "mpl.rcParams['figure.figsize'] = (25,10)\n",
        "mpl.rcParams['axes.grid'] = False"
      ]
    },
    {
      "cell_type": "code",
      "execution_count": 2,
      "id": "b2b129d5",
      "metadata": {
        "colab": {
          "base_uri": "https://localhost:8080/"
        },
        "id": "b2b129d5",
        "outputId": "81aa7782-e2e4-4ad9-847d-3fa4f4cd61d2"
      },
      "outputs": [
        {
          "output_type": "stream",
          "name": "stdout",
          "text": [
            "<class 'pandas.core.frame.DataFrame'>\n",
            "RangeIndex: 43824 entries, 0 to 43823\n",
            "Data columns (total 7 columns):\n",
            " #   Column             Non-Null Count  Dtype         \n",
            "---  ------             --------------  -----         \n",
            " 0   Time               43824 non-null  datetime64[ns]\n",
            " 1   Ventilation        43824 non-null  float64       \n",
            " 2   Sokets plug        43824 non-null  float64       \n",
            " 3   Lighting           43824 non-null  float64       \n",
            " 4   Other electricity  43824 non-null  float64       \n",
            " 5   Cooling            43824 non-null  float64       \n",
            " 6   Heating            43824 non-null  float64       \n",
            "dtypes: datetime64[ns](1), float64(6)\n",
            "memory usage: 2.3 MB\n"
          ]
        }
      ],
      "source": [
        "df = pd.read_csv('https://raw.githubusercontent.com/Mohammad-Kaosain-Akbar/NILM-two-years-dataset/main/Data_Greener_all.csv')\n",
        "df['Time']= pd.to_datetime(df['Time'])\n",
        "df.info()"
      ]
    },
    {
      "cell_type": "code",
      "source": [
        "Total = df[\"Ventilation\"] + df[\"Sokets plug\"] + df[\"Lighting\"] + df[\"Other electricity\"] + df[\"Cooling\"] + df[\"Heating\"]\n",
        "# https://www.kite.com/python/answers/how-to-sum-two-columns-in-a-pandas-dataframe-in-python\n",
        "\n",
        "df[\"Total\"] = Total"
      ],
      "metadata": {
        "id": "KukEXy4AmxEa"
      },
      "id": "KukEXy4AmxEa",
      "execution_count": 3,
      "outputs": []
    },
    {
      "cell_type": "code",
      "source": [
        "df"
      ],
      "metadata": {
        "id": "JD_ERnuv1TmT",
        "outputId": "f72b0948-e2fe-48f3-9f78-67fef0727dce",
        "colab": {
          "base_uri": "https://localhost:8080/",
          "height": 424
        }
      },
      "id": "JD_ERnuv1TmT",
      "execution_count": 4,
      "outputs": [
        {
          "output_type": "execute_result",
          "data": {
            "text/plain": [
              "                     Time  Ventilation  Sokets plug  Lighting  \\\n",
              "0     2017-01-03 13:00:00         27.4         41.8      53.7   \n",
              "1     2017-01-03 14:00:00         21.6         37.5      50.9   \n",
              "2     2017-01-03 15:00:00         18.5         37.4      60.1   \n",
              "3     2017-01-03 16:00:00         29.7         38.0      52.6   \n",
              "4     2017-01-03 17:00:00         16.7         38.1      56.7   \n",
              "...                   ...          ...          ...       ...   \n",
              "43819 2022-01-03 08:00:00         59.3         17.9      16.6   \n",
              "43820 2022-01-03 09:00:00         71.9         20.6      33.1   \n",
              "43821 2022-01-03 10:00:00         90.5         30.9      47.8   \n",
              "43822 2022-01-03 11:00:00         94.0         33.9      52.2   \n",
              "43823 2022-01-03 12:00:00         95.3         28.5      36.3   \n",
              "\n",
              "       Other electricity  Cooling  Heating   Total  \n",
              "0                   89.6    18.60    498.0  729.10  \n",
              "1                   64.6    61.90    500.0  736.50  \n",
              "2                   64.2    16.50    480.0  676.70  \n",
              "3                   43.2    19.80    390.0  573.30  \n",
              "4                   42.4    15.20    373.0  542.10  \n",
              "...                  ...      ...      ...     ...  \n",
              "43819              115.0    12.70    344.0  565.50  \n",
              "43820              149.0    11.90    399.0  685.50  \n",
              "43821              157.0    12.90    397.0  736.10  \n",
              "43822              155.0    15.40    345.0  695.50  \n",
              "43823              107.0     7.88    272.0  546.98  \n",
              "\n",
              "[43824 rows x 8 columns]"
            ],
            "text/html": [
              "\n",
              "  <div id=\"df-798b0cf6-df31-48e4-928a-0cfd96f2585d\">\n",
              "    <div class=\"colab-df-container\">\n",
              "      <div>\n",
              "<style scoped>\n",
              "    .dataframe tbody tr th:only-of-type {\n",
              "        vertical-align: middle;\n",
              "    }\n",
              "\n",
              "    .dataframe tbody tr th {\n",
              "        vertical-align: top;\n",
              "    }\n",
              "\n",
              "    .dataframe thead th {\n",
              "        text-align: right;\n",
              "    }\n",
              "</style>\n",
              "<table border=\"1\" class=\"dataframe\">\n",
              "  <thead>\n",
              "    <tr style=\"text-align: right;\">\n",
              "      <th></th>\n",
              "      <th>Time</th>\n",
              "      <th>Ventilation</th>\n",
              "      <th>Sokets plug</th>\n",
              "      <th>Lighting</th>\n",
              "      <th>Other electricity</th>\n",
              "      <th>Cooling</th>\n",
              "      <th>Heating</th>\n",
              "      <th>Total</th>\n",
              "    </tr>\n",
              "  </thead>\n",
              "  <tbody>\n",
              "    <tr>\n",
              "      <th>0</th>\n",
              "      <td>2017-01-03 13:00:00</td>\n",
              "      <td>27.4</td>\n",
              "      <td>41.8</td>\n",
              "      <td>53.7</td>\n",
              "      <td>89.6</td>\n",
              "      <td>18.60</td>\n",
              "      <td>498.0</td>\n",
              "      <td>729.10</td>\n",
              "    </tr>\n",
              "    <tr>\n",
              "      <th>1</th>\n",
              "      <td>2017-01-03 14:00:00</td>\n",
              "      <td>21.6</td>\n",
              "      <td>37.5</td>\n",
              "      <td>50.9</td>\n",
              "      <td>64.6</td>\n",
              "      <td>61.90</td>\n",
              "      <td>500.0</td>\n",
              "      <td>736.50</td>\n",
              "    </tr>\n",
              "    <tr>\n",
              "      <th>2</th>\n",
              "      <td>2017-01-03 15:00:00</td>\n",
              "      <td>18.5</td>\n",
              "      <td>37.4</td>\n",
              "      <td>60.1</td>\n",
              "      <td>64.2</td>\n",
              "      <td>16.50</td>\n",
              "      <td>480.0</td>\n",
              "      <td>676.70</td>\n",
              "    </tr>\n",
              "    <tr>\n",
              "      <th>3</th>\n",
              "      <td>2017-01-03 16:00:00</td>\n",
              "      <td>29.7</td>\n",
              "      <td>38.0</td>\n",
              "      <td>52.6</td>\n",
              "      <td>43.2</td>\n",
              "      <td>19.80</td>\n",
              "      <td>390.0</td>\n",
              "      <td>573.30</td>\n",
              "    </tr>\n",
              "    <tr>\n",
              "      <th>4</th>\n",
              "      <td>2017-01-03 17:00:00</td>\n",
              "      <td>16.7</td>\n",
              "      <td>38.1</td>\n",
              "      <td>56.7</td>\n",
              "      <td>42.4</td>\n",
              "      <td>15.20</td>\n",
              "      <td>373.0</td>\n",
              "      <td>542.10</td>\n",
              "    </tr>\n",
              "    <tr>\n",
              "      <th>...</th>\n",
              "      <td>...</td>\n",
              "      <td>...</td>\n",
              "      <td>...</td>\n",
              "      <td>...</td>\n",
              "      <td>...</td>\n",
              "      <td>...</td>\n",
              "      <td>...</td>\n",
              "      <td>...</td>\n",
              "    </tr>\n",
              "    <tr>\n",
              "      <th>43819</th>\n",
              "      <td>2022-01-03 08:00:00</td>\n",
              "      <td>59.3</td>\n",
              "      <td>17.9</td>\n",
              "      <td>16.6</td>\n",
              "      <td>115.0</td>\n",
              "      <td>12.70</td>\n",
              "      <td>344.0</td>\n",
              "      <td>565.50</td>\n",
              "    </tr>\n",
              "    <tr>\n",
              "      <th>43820</th>\n",
              "      <td>2022-01-03 09:00:00</td>\n",
              "      <td>71.9</td>\n",
              "      <td>20.6</td>\n",
              "      <td>33.1</td>\n",
              "      <td>149.0</td>\n",
              "      <td>11.90</td>\n",
              "      <td>399.0</td>\n",
              "      <td>685.50</td>\n",
              "    </tr>\n",
              "    <tr>\n",
              "      <th>43821</th>\n",
              "      <td>2022-01-03 10:00:00</td>\n",
              "      <td>90.5</td>\n",
              "      <td>30.9</td>\n",
              "      <td>47.8</td>\n",
              "      <td>157.0</td>\n",
              "      <td>12.90</td>\n",
              "      <td>397.0</td>\n",
              "      <td>736.10</td>\n",
              "    </tr>\n",
              "    <tr>\n",
              "      <th>43822</th>\n",
              "      <td>2022-01-03 11:00:00</td>\n",
              "      <td>94.0</td>\n",
              "      <td>33.9</td>\n",
              "      <td>52.2</td>\n",
              "      <td>155.0</td>\n",
              "      <td>15.40</td>\n",
              "      <td>345.0</td>\n",
              "      <td>695.50</td>\n",
              "    </tr>\n",
              "    <tr>\n",
              "      <th>43823</th>\n",
              "      <td>2022-01-03 12:00:00</td>\n",
              "      <td>95.3</td>\n",
              "      <td>28.5</td>\n",
              "      <td>36.3</td>\n",
              "      <td>107.0</td>\n",
              "      <td>7.88</td>\n",
              "      <td>272.0</td>\n",
              "      <td>546.98</td>\n",
              "    </tr>\n",
              "  </tbody>\n",
              "</table>\n",
              "<p>43824 rows × 8 columns</p>\n",
              "</div>\n",
              "      <button class=\"colab-df-convert\" onclick=\"convertToInteractive('df-798b0cf6-df31-48e4-928a-0cfd96f2585d')\"\n",
              "              title=\"Convert this dataframe to an interactive table.\"\n",
              "              style=\"display:none;\">\n",
              "        \n",
              "  <svg xmlns=\"http://www.w3.org/2000/svg\" height=\"24px\"viewBox=\"0 0 24 24\"\n",
              "       width=\"24px\">\n",
              "    <path d=\"M0 0h24v24H0V0z\" fill=\"none\"/>\n",
              "    <path d=\"M18.56 5.44l.94 2.06.94-2.06 2.06-.94-2.06-.94-.94-2.06-.94 2.06-2.06.94zm-11 1L8.5 8.5l.94-2.06 2.06-.94-2.06-.94L8.5 2.5l-.94 2.06-2.06.94zm10 10l.94 2.06.94-2.06 2.06-.94-2.06-.94-.94-2.06-.94 2.06-2.06.94z\"/><path d=\"M17.41 7.96l-1.37-1.37c-.4-.4-.92-.59-1.43-.59-.52 0-1.04.2-1.43.59L10.3 9.45l-7.72 7.72c-.78.78-.78 2.05 0 2.83L4 21.41c.39.39.9.59 1.41.59.51 0 1.02-.2 1.41-.59l7.78-7.78 2.81-2.81c.8-.78.8-2.07 0-2.86zM5.41 20L4 18.59l7.72-7.72 1.47 1.35L5.41 20z\"/>\n",
              "  </svg>\n",
              "      </button>\n",
              "      \n",
              "  <style>\n",
              "    .colab-df-container {\n",
              "      display:flex;\n",
              "      flex-wrap:wrap;\n",
              "      gap: 12px;\n",
              "    }\n",
              "\n",
              "    .colab-df-convert {\n",
              "      background-color: #E8F0FE;\n",
              "      border: none;\n",
              "      border-radius: 50%;\n",
              "      cursor: pointer;\n",
              "      display: none;\n",
              "      fill: #1967D2;\n",
              "      height: 32px;\n",
              "      padding: 0 0 0 0;\n",
              "      width: 32px;\n",
              "    }\n",
              "\n",
              "    .colab-df-convert:hover {\n",
              "      background-color: #E2EBFA;\n",
              "      box-shadow: 0px 1px 2px rgba(60, 64, 67, 0.3), 0px 1px 3px 1px rgba(60, 64, 67, 0.15);\n",
              "      fill: #174EA6;\n",
              "    }\n",
              "\n",
              "    [theme=dark] .colab-df-convert {\n",
              "      background-color: #3B4455;\n",
              "      fill: #D2E3FC;\n",
              "    }\n",
              "\n",
              "    [theme=dark] .colab-df-convert:hover {\n",
              "      background-color: #434B5C;\n",
              "      box-shadow: 0px 1px 3px 1px rgba(0, 0, 0, 0.15);\n",
              "      filter: drop-shadow(0px 1px 2px rgba(0, 0, 0, 0.3));\n",
              "      fill: #FFFFFF;\n",
              "    }\n",
              "  </style>\n",
              "\n",
              "      <script>\n",
              "        const buttonEl =\n",
              "          document.querySelector('#df-798b0cf6-df31-48e4-928a-0cfd96f2585d button.colab-df-convert');\n",
              "        buttonEl.style.display =\n",
              "          google.colab.kernel.accessAllowed ? 'block' : 'none';\n",
              "\n",
              "        async function convertToInteractive(key) {\n",
              "          const element = document.querySelector('#df-798b0cf6-df31-48e4-928a-0cfd96f2585d');\n",
              "          const dataTable =\n",
              "            await google.colab.kernel.invokeFunction('convertToInteractive',\n",
              "                                                     [key], {});\n",
              "          if (!dataTable) return;\n",
              "\n",
              "          const docLinkHtml = 'Like what you see? Visit the ' +\n",
              "            '<a target=\"_blank\" href=https://colab.research.google.com/notebooks/data_table.ipynb>data table notebook</a>'\n",
              "            + ' to learn more about interactive tables.';\n",
              "          element.innerHTML = '';\n",
              "          dataTable['output_type'] = 'display_data';\n",
              "          await google.colab.output.renderOutput(dataTable, element);\n",
              "          const docLink = document.createElement('div');\n",
              "          docLink.innerHTML = docLinkHtml;\n",
              "          element.appendChild(docLink);\n",
              "        }\n",
              "      </script>\n",
              "    </div>\n",
              "  </div>\n",
              "  "
            ]
          },
          "metadata": {},
          "execution_count": 4
        }
      ]
    },
    {
      "cell_type": "code",
      "execution_count": 5,
      "id": "8628416d",
      "metadata": {
        "colab": {
          "base_uri": "https://localhost:8080/",
          "height": 300
        },
        "id": "8628416d",
        "outputId": "595a4b4a-ff87-474c-bcbd-6d93f5da74c5"
      },
      "outputs": [
        {
          "output_type": "execute_result",
          "data": {
            "text/plain": [
              "        Ventilation   Sokets plug      Lighting  Other electricity  \\\n",
              "count  43824.000000  43824.000000  43824.000000       43824.000000   \n",
              "mean      32.433825     18.414002     14.316892          87.846242   \n",
              "std       36.211287     27.666459     15.064466          94.951663   \n",
              "min        0.000000      0.000000      0.000000           0.000000   \n",
              "25%        7.000000     11.400000      3.690000          35.800000   \n",
              "50%       14.100000     13.600000      6.500000          79.600000   \n",
              "75%       56.800000     20.100000     22.500000         103.000000   \n",
              "max      793.000000    980.000000    132.000000         971.000000   \n",
              "\n",
              "            Cooling       Heating         Total  \n",
              "count  43824.000000  43824.000000  43824.000000  \n",
              "mean      47.084925     68.994602    269.090489  \n",
              "std       71.422794    113.328362    180.713964  \n",
              "min        0.000000      0.000000      3.130000  \n",
              "25%       13.600000      5.500000    151.377500  \n",
              "50%       21.500000     12.300000    208.180000  \n",
              "75%       51.600000     89.000000    336.000000  \n",
              "max     1641.000000   1120.000000   2037.000000  "
            ],
            "text/html": [
              "\n",
              "  <div id=\"df-e90b8171-47a3-42e4-b83f-b5c52e8c0fe9\">\n",
              "    <div class=\"colab-df-container\">\n",
              "      <div>\n",
              "<style scoped>\n",
              "    .dataframe tbody tr th:only-of-type {\n",
              "        vertical-align: middle;\n",
              "    }\n",
              "\n",
              "    .dataframe tbody tr th {\n",
              "        vertical-align: top;\n",
              "    }\n",
              "\n",
              "    .dataframe thead th {\n",
              "        text-align: right;\n",
              "    }\n",
              "</style>\n",
              "<table border=\"1\" class=\"dataframe\">\n",
              "  <thead>\n",
              "    <tr style=\"text-align: right;\">\n",
              "      <th></th>\n",
              "      <th>Ventilation</th>\n",
              "      <th>Sokets plug</th>\n",
              "      <th>Lighting</th>\n",
              "      <th>Other electricity</th>\n",
              "      <th>Cooling</th>\n",
              "      <th>Heating</th>\n",
              "      <th>Total</th>\n",
              "    </tr>\n",
              "  </thead>\n",
              "  <tbody>\n",
              "    <tr>\n",
              "      <th>count</th>\n",
              "      <td>43824.000000</td>\n",
              "      <td>43824.000000</td>\n",
              "      <td>43824.000000</td>\n",
              "      <td>43824.000000</td>\n",
              "      <td>43824.000000</td>\n",
              "      <td>43824.000000</td>\n",
              "      <td>43824.000000</td>\n",
              "    </tr>\n",
              "    <tr>\n",
              "      <th>mean</th>\n",
              "      <td>32.433825</td>\n",
              "      <td>18.414002</td>\n",
              "      <td>14.316892</td>\n",
              "      <td>87.846242</td>\n",
              "      <td>47.084925</td>\n",
              "      <td>68.994602</td>\n",
              "      <td>269.090489</td>\n",
              "    </tr>\n",
              "    <tr>\n",
              "      <th>std</th>\n",
              "      <td>36.211287</td>\n",
              "      <td>27.666459</td>\n",
              "      <td>15.064466</td>\n",
              "      <td>94.951663</td>\n",
              "      <td>71.422794</td>\n",
              "      <td>113.328362</td>\n",
              "      <td>180.713964</td>\n",
              "    </tr>\n",
              "    <tr>\n",
              "      <th>min</th>\n",
              "      <td>0.000000</td>\n",
              "      <td>0.000000</td>\n",
              "      <td>0.000000</td>\n",
              "      <td>0.000000</td>\n",
              "      <td>0.000000</td>\n",
              "      <td>0.000000</td>\n",
              "      <td>3.130000</td>\n",
              "    </tr>\n",
              "    <tr>\n",
              "      <th>25%</th>\n",
              "      <td>7.000000</td>\n",
              "      <td>11.400000</td>\n",
              "      <td>3.690000</td>\n",
              "      <td>35.800000</td>\n",
              "      <td>13.600000</td>\n",
              "      <td>5.500000</td>\n",
              "      <td>151.377500</td>\n",
              "    </tr>\n",
              "    <tr>\n",
              "      <th>50%</th>\n",
              "      <td>14.100000</td>\n",
              "      <td>13.600000</td>\n",
              "      <td>6.500000</td>\n",
              "      <td>79.600000</td>\n",
              "      <td>21.500000</td>\n",
              "      <td>12.300000</td>\n",
              "      <td>208.180000</td>\n",
              "    </tr>\n",
              "    <tr>\n",
              "      <th>75%</th>\n",
              "      <td>56.800000</td>\n",
              "      <td>20.100000</td>\n",
              "      <td>22.500000</td>\n",
              "      <td>103.000000</td>\n",
              "      <td>51.600000</td>\n",
              "      <td>89.000000</td>\n",
              "      <td>336.000000</td>\n",
              "    </tr>\n",
              "    <tr>\n",
              "      <th>max</th>\n",
              "      <td>793.000000</td>\n",
              "      <td>980.000000</td>\n",
              "      <td>132.000000</td>\n",
              "      <td>971.000000</td>\n",
              "      <td>1641.000000</td>\n",
              "      <td>1120.000000</td>\n",
              "      <td>2037.000000</td>\n",
              "    </tr>\n",
              "  </tbody>\n",
              "</table>\n",
              "</div>\n",
              "      <button class=\"colab-df-convert\" onclick=\"convertToInteractive('df-e90b8171-47a3-42e4-b83f-b5c52e8c0fe9')\"\n",
              "              title=\"Convert this dataframe to an interactive table.\"\n",
              "              style=\"display:none;\">\n",
              "        \n",
              "  <svg xmlns=\"http://www.w3.org/2000/svg\" height=\"24px\"viewBox=\"0 0 24 24\"\n",
              "       width=\"24px\">\n",
              "    <path d=\"M0 0h24v24H0V0z\" fill=\"none\"/>\n",
              "    <path d=\"M18.56 5.44l.94 2.06.94-2.06 2.06-.94-2.06-.94-.94-2.06-.94 2.06-2.06.94zm-11 1L8.5 8.5l.94-2.06 2.06-.94-2.06-.94L8.5 2.5l-.94 2.06-2.06.94zm10 10l.94 2.06.94-2.06 2.06-.94-2.06-.94-.94-2.06-.94 2.06-2.06.94z\"/><path d=\"M17.41 7.96l-1.37-1.37c-.4-.4-.92-.59-1.43-.59-.52 0-1.04.2-1.43.59L10.3 9.45l-7.72 7.72c-.78.78-.78 2.05 0 2.83L4 21.41c.39.39.9.59 1.41.59.51 0 1.02-.2 1.41-.59l7.78-7.78 2.81-2.81c.8-.78.8-2.07 0-2.86zM5.41 20L4 18.59l7.72-7.72 1.47 1.35L5.41 20z\"/>\n",
              "  </svg>\n",
              "      </button>\n",
              "      \n",
              "  <style>\n",
              "    .colab-df-container {\n",
              "      display:flex;\n",
              "      flex-wrap:wrap;\n",
              "      gap: 12px;\n",
              "    }\n",
              "\n",
              "    .colab-df-convert {\n",
              "      background-color: #E8F0FE;\n",
              "      border: none;\n",
              "      border-radius: 50%;\n",
              "      cursor: pointer;\n",
              "      display: none;\n",
              "      fill: #1967D2;\n",
              "      height: 32px;\n",
              "      padding: 0 0 0 0;\n",
              "      width: 32px;\n",
              "    }\n",
              "\n",
              "    .colab-df-convert:hover {\n",
              "      background-color: #E2EBFA;\n",
              "      box-shadow: 0px 1px 2px rgba(60, 64, 67, 0.3), 0px 1px 3px 1px rgba(60, 64, 67, 0.15);\n",
              "      fill: #174EA6;\n",
              "    }\n",
              "\n",
              "    [theme=dark] .colab-df-convert {\n",
              "      background-color: #3B4455;\n",
              "      fill: #D2E3FC;\n",
              "    }\n",
              "\n",
              "    [theme=dark] .colab-df-convert:hover {\n",
              "      background-color: #434B5C;\n",
              "      box-shadow: 0px 1px 3px 1px rgba(0, 0, 0, 0.15);\n",
              "      filter: drop-shadow(0px 1px 2px rgba(0, 0, 0, 0.3));\n",
              "      fill: #FFFFFF;\n",
              "    }\n",
              "  </style>\n",
              "\n",
              "      <script>\n",
              "        const buttonEl =\n",
              "          document.querySelector('#df-e90b8171-47a3-42e4-b83f-b5c52e8c0fe9 button.colab-df-convert');\n",
              "        buttonEl.style.display =\n",
              "          google.colab.kernel.accessAllowed ? 'block' : 'none';\n",
              "\n",
              "        async function convertToInteractive(key) {\n",
              "          const element = document.querySelector('#df-e90b8171-47a3-42e4-b83f-b5c52e8c0fe9');\n",
              "          const dataTable =\n",
              "            await google.colab.kernel.invokeFunction('convertToInteractive',\n",
              "                                                     [key], {});\n",
              "          if (!dataTable) return;\n",
              "\n",
              "          const docLinkHtml = 'Like what you see? Visit the ' +\n",
              "            '<a target=\"_blank\" href=https://colab.research.google.com/notebooks/data_table.ipynb>data table notebook</a>'\n",
              "            + ' to learn more about interactive tables.';\n",
              "          element.innerHTML = '';\n",
              "          dataTable['output_type'] = 'display_data';\n",
              "          await google.colab.output.renderOutput(dataTable, element);\n",
              "          const docLink = document.createElement('div');\n",
              "          docLink.innerHTML = docLinkHtml;\n",
              "          element.appendChild(docLink);\n",
              "        }\n",
              "      </script>\n",
              "    </div>\n",
              "  </div>\n",
              "  "
            ]
          },
          "metadata": {},
          "execution_count": 5
        }
      ],
      "source": [
        "df.describe()"
      ]
    },
    {
      "cell_type": "code",
      "execution_count": 6,
      "id": "2566957e",
      "metadata": {
        "scrolled": true,
        "id": "2566957e"
      },
      "outputs": [],
      "source": [
        "df['Year'] = df['Time'].dt.year\n",
        "df['Month']=df['Time'].dt.month\n",
        "df['Day']=df['Time'].dt.day\n",
        "df['Hour']=df['Time'].dt.hour\n",
        "df.drop('Time', inplace=True, axis=1)"
      ]
    },
    {
      "cell_type": "code",
      "source": [
        "df"
      ],
      "metadata": {
        "colab": {
          "base_uri": "https://localhost:8080/",
          "height": 424
        },
        "id": "ylQXgst4k1Yn",
        "outputId": "685c8110-1fe8-4f9a-a1aa-a52b3c267cf3"
      },
      "id": "ylQXgst4k1Yn",
      "execution_count": 7,
      "outputs": [
        {
          "output_type": "execute_result",
          "data": {
            "text/plain": [
              "       Ventilation  Sokets plug  Lighting  Other electricity  Cooling  \\\n",
              "0             27.4         41.8      53.7               89.6    18.60   \n",
              "1             21.6         37.5      50.9               64.6    61.90   \n",
              "2             18.5         37.4      60.1               64.2    16.50   \n",
              "3             29.7         38.0      52.6               43.2    19.80   \n",
              "4             16.7         38.1      56.7               42.4    15.20   \n",
              "...            ...          ...       ...                ...      ...   \n",
              "43819         59.3         17.9      16.6              115.0    12.70   \n",
              "43820         71.9         20.6      33.1              149.0    11.90   \n",
              "43821         90.5         30.9      47.8              157.0    12.90   \n",
              "43822         94.0         33.9      52.2              155.0    15.40   \n",
              "43823         95.3         28.5      36.3              107.0     7.88   \n",
              "\n",
              "       Heating   Total  Year  Month  Day  Hour  \n",
              "0        498.0  729.10  2017      1    3    13  \n",
              "1        500.0  736.50  2017      1    3    14  \n",
              "2        480.0  676.70  2017      1    3    15  \n",
              "3        390.0  573.30  2017      1    3    16  \n",
              "4        373.0  542.10  2017      1    3    17  \n",
              "...        ...     ...   ...    ...  ...   ...  \n",
              "43819    344.0  565.50  2022      1    3     8  \n",
              "43820    399.0  685.50  2022      1    3     9  \n",
              "43821    397.0  736.10  2022      1    3    10  \n",
              "43822    345.0  695.50  2022      1    3    11  \n",
              "43823    272.0  546.98  2022      1    3    12  \n",
              "\n",
              "[43824 rows x 11 columns]"
            ],
            "text/html": [
              "\n",
              "  <div id=\"df-06febe55-bc42-4c2a-a2c6-93f8482e73e3\">\n",
              "    <div class=\"colab-df-container\">\n",
              "      <div>\n",
              "<style scoped>\n",
              "    .dataframe tbody tr th:only-of-type {\n",
              "        vertical-align: middle;\n",
              "    }\n",
              "\n",
              "    .dataframe tbody tr th {\n",
              "        vertical-align: top;\n",
              "    }\n",
              "\n",
              "    .dataframe thead th {\n",
              "        text-align: right;\n",
              "    }\n",
              "</style>\n",
              "<table border=\"1\" class=\"dataframe\">\n",
              "  <thead>\n",
              "    <tr style=\"text-align: right;\">\n",
              "      <th></th>\n",
              "      <th>Ventilation</th>\n",
              "      <th>Sokets plug</th>\n",
              "      <th>Lighting</th>\n",
              "      <th>Other electricity</th>\n",
              "      <th>Cooling</th>\n",
              "      <th>Heating</th>\n",
              "      <th>Total</th>\n",
              "      <th>Year</th>\n",
              "      <th>Month</th>\n",
              "      <th>Day</th>\n",
              "      <th>Hour</th>\n",
              "    </tr>\n",
              "  </thead>\n",
              "  <tbody>\n",
              "    <tr>\n",
              "      <th>0</th>\n",
              "      <td>27.4</td>\n",
              "      <td>41.8</td>\n",
              "      <td>53.7</td>\n",
              "      <td>89.6</td>\n",
              "      <td>18.60</td>\n",
              "      <td>498.0</td>\n",
              "      <td>729.10</td>\n",
              "      <td>2017</td>\n",
              "      <td>1</td>\n",
              "      <td>3</td>\n",
              "      <td>13</td>\n",
              "    </tr>\n",
              "    <tr>\n",
              "      <th>1</th>\n",
              "      <td>21.6</td>\n",
              "      <td>37.5</td>\n",
              "      <td>50.9</td>\n",
              "      <td>64.6</td>\n",
              "      <td>61.90</td>\n",
              "      <td>500.0</td>\n",
              "      <td>736.50</td>\n",
              "      <td>2017</td>\n",
              "      <td>1</td>\n",
              "      <td>3</td>\n",
              "      <td>14</td>\n",
              "    </tr>\n",
              "    <tr>\n",
              "      <th>2</th>\n",
              "      <td>18.5</td>\n",
              "      <td>37.4</td>\n",
              "      <td>60.1</td>\n",
              "      <td>64.2</td>\n",
              "      <td>16.50</td>\n",
              "      <td>480.0</td>\n",
              "      <td>676.70</td>\n",
              "      <td>2017</td>\n",
              "      <td>1</td>\n",
              "      <td>3</td>\n",
              "      <td>15</td>\n",
              "    </tr>\n",
              "    <tr>\n",
              "      <th>3</th>\n",
              "      <td>29.7</td>\n",
              "      <td>38.0</td>\n",
              "      <td>52.6</td>\n",
              "      <td>43.2</td>\n",
              "      <td>19.80</td>\n",
              "      <td>390.0</td>\n",
              "      <td>573.30</td>\n",
              "      <td>2017</td>\n",
              "      <td>1</td>\n",
              "      <td>3</td>\n",
              "      <td>16</td>\n",
              "    </tr>\n",
              "    <tr>\n",
              "      <th>4</th>\n",
              "      <td>16.7</td>\n",
              "      <td>38.1</td>\n",
              "      <td>56.7</td>\n",
              "      <td>42.4</td>\n",
              "      <td>15.20</td>\n",
              "      <td>373.0</td>\n",
              "      <td>542.10</td>\n",
              "      <td>2017</td>\n",
              "      <td>1</td>\n",
              "      <td>3</td>\n",
              "      <td>17</td>\n",
              "    </tr>\n",
              "    <tr>\n",
              "      <th>...</th>\n",
              "      <td>...</td>\n",
              "      <td>...</td>\n",
              "      <td>...</td>\n",
              "      <td>...</td>\n",
              "      <td>...</td>\n",
              "      <td>...</td>\n",
              "      <td>...</td>\n",
              "      <td>...</td>\n",
              "      <td>...</td>\n",
              "      <td>...</td>\n",
              "      <td>...</td>\n",
              "    </tr>\n",
              "    <tr>\n",
              "      <th>43819</th>\n",
              "      <td>59.3</td>\n",
              "      <td>17.9</td>\n",
              "      <td>16.6</td>\n",
              "      <td>115.0</td>\n",
              "      <td>12.70</td>\n",
              "      <td>344.0</td>\n",
              "      <td>565.50</td>\n",
              "      <td>2022</td>\n",
              "      <td>1</td>\n",
              "      <td>3</td>\n",
              "      <td>8</td>\n",
              "    </tr>\n",
              "    <tr>\n",
              "      <th>43820</th>\n",
              "      <td>71.9</td>\n",
              "      <td>20.6</td>\n",
              "      <td>33.1</td>\n",
              "      <td>149.0</td>\n",
              "      <td>11.90</td>\n",
              "      <td>399.0</td>\n",
              "      <td>685.50</td>\n",
              "      <td>2022</td>\n",
              "      <td>1</td>\n",
              "      <td>3</td>\n",
              "      <td>9</td>\n",
              "    </tr>\n",
              "    <tr>\n",
              "      <th>43821</th>\n",
              "      <td>90.5</td>\n",
              "      <td>30.9</td>\n",
              "      <td>47.8</td>\n",
              "      <td>157.0</td>\n",
              "      <td>12.90</td>\n",
              "      <td>397.0</td>\n",
              "      <td>736.10</td>\n",
              "      <td>2022</td>\n",
              "      <td>1</td>\n",
              "      <td>3</td>\n",
              "      <td>10</td>\n",
              "    </tr>\n",
              "    <tr>\n",
              "      <th>43822</th>\n",
              "      <td>94.0</td>\n",
              "      <td>33.9</td>\n",
              "      <td>52.2</td>\n",
              "      <td>155.0</td>\n",
              "      <td>15.40</td>\n",
              "      <td>345.0</td>\n",
              "      <td>695.50</td>\n",
              "      <td>2022</td>\n",
              "      <td>1</td>\n",
              "      <td>3</td>\n",
              "      <td>11</td>\n",
              "    </tr>\n",
              "    <tr>\n",
              "      <th>43823</th>\n",
              "      <td>95.3</td>\n",
              "      <td>28.5</td>\n",
              "      <td>36.3</td>\n",
              "      <td>107.0</td>\n",
              "      <td>7.88</td>\n",
              "      <td>272.0</td>\n",
              "      <td>546.98</td>\n",
              "      <td>2022</td>\n",
              "      <td>1</td>\n",
              "      <td>3</td>\n",
              "      <td>12</td>\n",
              "    </tr>\n",
              "  </tbody>\n",
              "</table>\n",
              "<p>43824 rows × 11 columns</p>\n",
              "</div>\n",
              "      <button class=\"colab-df-convert\" onclick=\"convertToInteractive('df-06febe55-bc42-4c2a-a2c6-93f8482e73e3')\"\n",
              "              title=\"Convert this dataframe to an interactive table.\"\n",
              "              style=\"display:none;\">\n",
              "        \n",
              "  <svg xmlns=\"http://www.w3.org/2000/svg\" height=\"24px\"viewBox=\"0 0 24 24\"\n",
              "       width=\"24px\">\n",
              "    <path d=\"M0 0h24v24H0V0z\" fill=\"none\"/>\n",
              "    <path d=\"M18.56 5.44l.94 2.06.94-2.06 2.06-.94-2.06-.94-.94-2.06-.94 2.06-2.06.94zm-11 1L8.5 8.5l.94-2.06 2.06-.94-2.06-.94L8.5 2.5l-.94 2.06-2.06.94zm10 10l.94 2.06.94-2.06 2.06-.94-2.06-.94-.94-2.06-.94 2.06-2.06.94z\"/><path d=\"M17.41 7.96l-1.37-1.37c-.4-.4-.92-.59-1.43-.59-.52 0-1.04.2-1.43.59L10.3 9.45l-7.72 7.72c-.78.78-.78 2.05 0 2.83L4 21.41c.39.39.9.59 1.41.59.51 0 1.02-.2 1.41-.59l7.78-7.78 2.81-2.81c.8-.78.8-2.07 0-2.86zM5.41 20L4 18.59l7.72-7.72 1.47 1.35L5.41 20z\"/>\n",
              "  </svg>\n",
              "      </button>\n",
              "      \n",
              "  <style>\n",
              "    .colab-df-container {\n",
              "      display:flex;\n",
              "      flex-wrap:wrap;\n",
              "      gap: 12px;\n",
              "    }\n",
              "\n",
              "    .colab-df-convert {\n",
              "      background-color: #E8F0FE;\n",
              "      border: none;\n",
              "      border-radius: 50%;\n",
              "      cursor: pointer;\n",
              "      display: none;\n",
              "      fill: #1967D2;\n",
              "      height: 32px;\n",
              "      padding: 0 0 0 0;\n",
              "      width: 32px;\n",
              "    }\n",
              "\n",
              "    .colab-df-convert:hover {\n",
              "      background-color: #E2EBFA;\n",
              "      box-shadow: 0px 1px 2px rgba(60, 64, 67, 0.3), 0px 1px 3px 1px rgba(60, 64, 67, 0.15);\n",
              "      fill: #174EA6;\n",
              "    }\n",
              "\n",
              "    [theme=dark] .colab-df-convert {\n",
              "      background-color: #3B4455;\n",
              "      fill: #D2E3FC;\n",
              "    }\n",
              "\n",
              "    [theme=dark] .colab-df-convert:hover {\n",
              "      background-color: #434B5C;\n",
              "      box-shadow: 0px 1px 3px 1px rgba(0, 0, 0, 0.15);\n",
              "      filter: drop-shadow(0px 1px 2px rgba(0, 0, 0, 0.3));\n",
              "      fill: #FFFFFF;\n",
              "    }\n",
              "  </style>\n",
              "\n",
              "      <script>\n",
              "        const buttonEl =\n",
              "          document.querySelector('#df-06febe55-bc42-4c2a-a2c6-93f8482e73e3 button.colab-df-convert');\n",
              "        buttonEl.style.display =\n",
              "          google.colab.kernel.accessAllowed ? 'block' : 'none';\n",
              "\n",
              "        async function convertToInteractive(key) {\n",
              "          const element = document.querySelector('#df-06febe55-bc42-4c2a-a2c6-93f8482e73e3');\n",
              "          const dataTable =\n",
              "            await google.colab.kernel.invokeFunction('convertToInteractive',\n",
              "                                                     [key], {});\n",
              "          if (!dataTable) return;\n",
              "\n",
              "          const docLinkHtml = 'Like what you see? Visit the ' +\n",
              "            '<a target=\"_blank\" href=https://colab.research.google.com/notebooks/data_table.ipynb>data table notebook</a>'\n",
              "            + ' to learn more about interactive tables.';\n",
              "          element.innerHTML = '';\n",
              "          dataTable['output_type'] = 'display_data';\n",
              "          await google.colab.output.renderOutput(dataTable, element);\n",
              "          const docLink = document.createElement('div');\n",
              "          docLink.innerHTML = docLinkHtml;\n",
              "          element.appendChild(docLink);\n",
              "        }\n",
              "      </script>\n",
              "    </div>\n",
              "  </div>\n",
              "  "
            ]
          },
          "metadata": {},
          "execution_count": 7
        }
      ]
    },
    {
      "cell_type": "code",
      "source": [
        "df1_train = df.loc[(df['Year'].isin([2017,2018]))&(df['Month'].isin([1,2,3]))]\n",
        "df1_test = df.loc[(df['Year'].isin([2019]))&(df['Month'].isin([1,2,3]))]\n",
        "\n",
        "print('df_train.shape: ', df1_train.shape)\n",
        "print('df_test.shape: ', df1_test.shape)\n"
      ],
      "metadata": {
        "colab": {
          "base_uri": "https://localhost:8080/"
        },
        "id": "8z6I-vytI2r-",
        "outputId": "4edb0316-4236-496b-d317-d1684986be4b"
      },
      "id": "8z6I-vytI2r-",
      "execution_count": 8,
      "outputs": [
        {
          "output_type": "stream",
          "name": "stdout",
          "text": [
            "df_train.shape:  (4257, 11)\n",
            "df_test.shape:  (2159, 11)\n"
          ]
        }
      ]
    },
    {
      "cell_type": "code",
      "execution_count": 9,
      "id": "cdffb980",
      "metadata": {
        "id": "cdffb980"
      },
      "outputs": [],
      "source": [
        "# conda install tensorflow"
      ]
    },
    {
      "cell_type": "code",
      "execution_count": 10,
      "id": "fe2880a5",
      "metadata": {
        "colab": {
          "base_uri": "https://localhost:8080/"
        },
        "id": "fe2880a5",
        "outputId": "18c67b12-7c4a-442f-d3be-bcc54af74b78"
      },
      "outputs": [
        {
          "output_type": "stream",
          "name": "stdout",
          "text": [
            "Collecting keras-tcn\n",
            "  Downloading keras_tcn-3.4.2-py3-none-any.whl (13 kB)\n",
            "Collecting tensorflow-addons\n",
            "  Downloading tensorflow_addons-0.16.1-cp37-cp37m-manylinux_2_12_x86_64.manylinux2010_x86_64.whl (1.1 MB)\n",
            "\u001b[K     |████████████████████████████████| 1.1 MB 15.6 MB/s \n",
            "\u001b[?25hRequirement already satisfied: tensorflow in /usr/local/lib/python3.7/dist-packages (from keras-tcn) (2.8.0)\n",
            "Requirement already satisfied: numpy in /usr/local/lib/python3.7/dist-packages (from keras-tcn) (1.21.6)\n",
            "Requirement already satisfied: protobuf>=3.9.2 in /usr/local/lib/python3.7/dist-packages (from tensorflow->keras-tcn) (3.17.3)\n",
            "Requirement already satisfied: wrapt>=1.11.0 in /usr/local/lib/python3.7/dist-packages (from tensorflow->keras-tcn) (1.14.0)\n",
            "Requirement already satisfied: absl-py>=0.4.0 in /usr/local/lib/python3.7/dist-packages (from tensorflow->keras-tcn) (1.0.0)\n",
            "Requirement already satisfied: libclang>=9.0.1 in /usr/local/lib/python3.7/dist-packages (from tensorflow->keras-tcn) (13.0.0)\n",
            "Requirement already satisfied: flatbuffers>=1.12 in /usr/local/lib/python3.7/dist-packages (from tensorflow->keras-tcn) (2.0)\n",
            "Requirement already satisfied: termcolor>=1.1.0 in /usr/local/lib/python3.7/dist-packages (from tensorflow->keras-tcn) (1.1.0)\n",
            "Requirement already satisfied: astunparse>=1.6.0 in /usr/local/lib/python3.7/dist-packages (from tensorflow->keras-tcn) (1.6.3)\n",
            "Requirement already satisfied: h5py>=2.9.0 in /usr/local/lib/python3.7/dist-packages (from tensorflow->keras-tcn) (3.1.0)\n",
            "Requirement already satisfied: gast>=0.2.1 in /usr/local/lib/python3.7/dist-packages (from tensorflow->keras-tcn) (0.5.3)\n",
            "Requirement already satisfied: tensorboard<2.9,>=2.8 in /usr/local/lib/python3.7/dist-packages (from tensorflow->keras-tcn) (2.8.0)\n",
            "Requirement already satisfied: setuptools in /usr/local/lib/python3.7/dist-packages (from tensorflow->keras-tcn) (57.4.0)\n",
            "Requirement already satisfied: tensorflow-io-gcs-filesystem>=0.23.1 in /usr/local/lib/python3.7/dist-packages (from tensorflow->keras-tcn) (0.24.0)\n",
            "Requirement already satisfied: keras-preprocessing>=1.1.1 in /usr/local/lib/python3.7/dist-packages (from tensorflow->keras-tcn) (1.1.2)\n",
            "Requirement already satisfied: six>=1.12.0 in /usr/local/lib/python3.7/dist-packages (from tensorflow->keras-tcn) (1.15.0)\n",
            "Requirement already satisfied: opt-einsum>=2.3.2 in /usr/local/lib/python3.7/dist-packages (from tensorflow->keras-tcn) (3.3.0)\n",
            "Requirement already satisfied: typing-extensions>=3.6.6 in /usr/local/lib/python3.7/dist-packages (from tensorflow->keras-tcn) (4.1.1)\n",
            "Requirement already satisfied: google-pasta>=0.1.1 in /usr/local/lib/python3.7/dist-packages (from tensorflow->keras-tcn) (0.2.0)\n",
            "Requirement already satisfied: keras<2.9,>=2.8.0rc0 in /usr/local/lib/python3.7/dist-packages (from tensorflow->keras-tcn) (2.8.0)\n",
            "Requirement already satisfied: grpcio<2.0,>=1.24.3 in /usr/local/lib/python3.7/dist-packages (from tensorflow->keras-tcn) (1.44.0)\n",
            "Collecting tf-estimator-nightly==2.8.0.dev2021122109\n",
            "  Downloading tf_estimator_nightly-2.8.0.dev2021122109-py2.py3-none-any.whl (462 kB)\n",
            "\u001b[K     |████████████████████████████████| 462 kB 40.7 MB/s \n",
            "\u001b[?25hRequirement already satisfied: wheel<1.0,>=0.23.0 in /usr/local/lib/python3.7/dist-packages (from astunparse>=1.6.0->tensorflow->keras-tcn) (0.37.1)\n",
            "Requirement already satisfied: cached-property in /usr/local/lib/python3.7/dist-packages (from h5py>=2.9.0->tensorflow->keras-tcn) (1.5.2)\n",
            "Requirement already satisfied: tensorboard-plugin-wit>=1.6.0 in /usr/local/lib/python3.7/dist-packages (from tensorboard<2.9,>=2.8->tensorflow->keras-tcn) (1.8.1)\n",
            "Requirement already satisfied: tensorboard-data-server<0.7.0,>=0.6.0 in /usr/local/lib/python3.7/dist-packages (from tensorboard<2.9,>=2.8->tensorflow->keras-tcn) (0.6.1)\n",
            "Requirement already satisfied: werkzeug>=0.11.15 in /usr/local/lib/python3.7/dist-packages (from tensorboard<2.9,>=2.8->tensorflow->keras-tcn) (1.0.1)\n",
            "Requirement already satisfied: google-auth-oauthlib<0.5,>=0.4.1 in /usr/local/lib/python3.7/dist-packages (from tensorboard<2.9,>=2.8->tensorflow->keras-tcn) (0.4.6)\n",
            "Requirement already satisfied: markdown>=2.6.8 in /usr/local/lib/python3.7/dist-packages (from tensorboard<2.9,>=2.8->tensorflow->keras-tcn) (3.3.6)\n",
            "Requirement already satisfied: google-auth<3,>=1.6.3 in /usr/local/lib/python3.7/dist-packages (from tensorboard<2.9,>=2.8->tensorflow->keras-tcn) (1.35.0)\n",
            "Requirement already satisfied: requests<3,>=2.21.0 in /usr/local/lib/python3.7/dist-packages (from tensorboard<2.9,>=2.8->tensorflow->keras-tcn) (2.23.0)\n",
            "Requirement already satisfied: rsa<5,>=3.1.4 in /usr/local/lib/python3.7/dist-packages (from google-auth<3,>=1.6.3->tensorboard<2.9,>=2.8->tensorflow->keras-tcn) (4.8)\n",
            "Requirement already satisfied: pyasn1-modules>=0.2.1 in /usr/local/lib/python3.7/dist-packages (from google-auth<3,>=1.6.3->tensorboard<2.9,>=2.8->tensorflow->keras-tcn) (0.2.8)\n",
            "Requirement already satisfied: cachetools<5.0,>=2.0.0 in /usr/local/lib/python3.7/dist-packages (from google-auth<3,>=1.6.3->tensorboard<2.9,>=2.8->tensorflow->keras-tcn) (4.2.4)\n",
            "Requirement already satisfied: requests-oauthlib>=0.7.0 in /usr/local/lib/python3.7/dist-packages (from google-auth-oauthlib<0.5,>=0.4.1->tensorboard<2.9,>=2.8->tensorflow->keras-tcn) (1.3.1)\n",
            "Requirement already satisfied: importlib-metadata>=4.4 in /usr/local/lib/python3.7/dist-packages (from markdown>=2.6.8->tensorboard<2.9,>=2.8->tensorflow->keras-tcn) (4.11.3)\n",
            "Requirement already satisfied: zipp>=0.5 in /usr/local/lib/python3.7/dist-packages (from importlib-metadata>=4.4->markdown>=2.6.8->tensorboard<2.9,>=2.8->tensorflow->keras-tcn) (3.8.0)\n",
            "Requirement already satisfied: pyasn1<0.5.0,>=0.4.6 in /usr/local/lib/python3.7/dist-packages (from pyasn1-modules>=0.2.1->google-auth<3,>=1.6.3->tensorboard<2.9,>=2.8->tensorflow->keras-tcn) (0.4.8)\n",
            "Requirement already satisfied: certifi>=2017.4.17 in /usr/local/lib/python3.7/dist-packages (from requests<3,>=2.21.0->tensorboard<2.9,>=2.8->tensorflow->keras-tcn) (2021.10.8)\n",
            "Requirement already satisfied: urllib3!=1.25.0,!=1.25.1,<1.26,>=1.21.1 in /usr/local/lib/python3.7/dist-packages (from requests<3,>=2.21.0->tensorboard<2.9,>=2.8->tensorflow->keras-tcn) (1.24.3)\n",
            "Requirement already satisfied: chardet<4,>=3.0.2 in /usr/local/lib/python3.7/dist-packages (from requests<3,>=2.21.0->tensorboard<2.9,>=2.8->tensorflow->keras-tcn) (3.0.4)\n",
            "Requirement already satisfied: idna<3,>=2.5 in /usr/local/lib/python3.7/dist-packages (from requests<3,>=2.21.0->tensorboard<2.9,>=2.8->tensorflow->keras-tcn) (2.10)\n",
            "Requirement already satisfied: oauthlib>=3.0.0 in /usr/local/lib/python3.7/dist-packages (from requests-oauthlib>=0.7.0->google-auth-oauthlib<0.5,>=0.4.1->tensorboard<2.9,>=2.8->tensorflow->keras-tcn) (3.2.0)\n",
            "Requirement already satisfied: typeguard>=2.7 in /usr/local/lib/python3.7/dist-packages (from tensorflow-addons->keras-tcn) (2.7.1)\n",
            "Installing collected packages: tf-estimator-nightly, tensorflow-addons, keras-tcn\n",
            "Successfully installed keras-tcn-3.4.2 tensorflow-addons-0.16.1 tf-estimator-nightly-2.8.0.dev2021122109\n",
            "Requirement already satisfied: keras-tcn in /usr/local/lib/python3.7/dist-packages (3.4.2)\n"
          ]
        }
      ],
      "source": [
        "!pip install keras-tcn\n",
        "!pip install keras-tcn --no-dependencies  # without the dependencies if you already have TF/Numpy."
      ]
    },
    {
      "cell_type": "code",
      "execution_count": 11,
      "id": "b7fdcf47",
      "metadata": {
        "id": "b7fdcf47"
      },
      "outputs": [],
      "source": [
        "from tcn import TCN\n",
        "from tensorflow.keras.layers import Dense\n",
        "from tensorflow.keras.models import Sequential"
      ]
    },
    {
      "cell_type": "code",
      "source": [
        "X_train1 = df1_train[['Total', 'Year', 'Month', 'Day', 'Hour']].values\n",
        "y_train1 = df1_train[['Ventilation','Sokets plug', 'Lighting', 'Other electricity', 'Cooling', 'Heating']].values\n",
        "X_test1 = df1_test[['Total', 'Year', 'Month', 'Day', 'Hour']].values\n",
        "y_test1 = df1_test[['Ventilation','Sokets plug', 'Lighting', 'Other electricity', 'Cooling', 'Heating']].values\n",
        "print(X_train1.shape, y_train1.shape, X_test1.shape, y_test1.shape)"
      ],
      "metadata": {
        "colab": {
          "base_uri": "https://localhost:8080/"
        },
        "id": "win6iwkHOQ3n",
        "outputId": "efb455de-11ad-464d-dacc-ad71adb87ef3"
      },
      "id": "win6iwkHOQ3n",
      "execution_count": 12,
      "outputs": [
        {
          "output_type": "stream",
          "name": "stdout",
          "text": [
            "(4257, 5) (4257, 6) (2159, 5) (2159, 6)\n"
          ]
        }
      ]
    },
    {
      "cell_type": "code",
      "source": [
        "from sklearn.preprocessing import StandardScaler\n",
        "sc = StandardScaler()\n",
        "X_train1 = sc.fit_transform(X_train1)\n",
        "X_test1=sc.fit_transform(X_test1)"
      ],
      "metadata": {
        "id": "7l2DSYPfhLF7"
      },
      "id": "7l2DSYPfhLF7",
      "execution_count": 13,
      "outputs": []
    },
    {
      "cell_type": "code",
      "execution_count": 14,
      "id": "82be13a6",
      "metadata": {
        "colab": {
          "base_uri": "https://localhost:8080/"
        },
        "id": "82be13a6",
        "outputId": "43d0dd50-fcb0-41b2-94b3-c61a2648e71b"
      },
      "outputs": [
        {
          "output_type": "stream",
          "name": "stdout",
          "text": [
            "Model: \"sequential\"\n",
            "_________________________________________________________________\n",
            " Layer (type)                Output Shape              Param #   \n",
            "=================================================================\n",
            " tcn (TCN)                   (None, 64)                136256    \n",
            "                                                                 \n",
            " dense (Dense)               (None, 500)               32500     \n",
            "                                                                 \n",
            " dense_1 (Dense)             (None, 500)               250500    \n",
            "                                                                 \n",
            " dense_2 (Dense)             (None, 500)               250500    \n",
            "                                                                 \n",
            " dense_3 (Dense)             (None, 500)               250500    \n",
            "                                                                 \n",
            " dense_4 (Dense)             (None, 6)                 3006      \n",
            "                                                                 \n",
            "=================================================================\n",
            "Total params: 923,262\n",
            "Trainable params: 923,262\n",
            "Non-trainable params: 0\n",
            "_________________________________________________________________\n"
          ]
        }
      ],
      "source": [
        "model = Sequential()\n",
        "model.add(TCN(\n",
        "      input_shape = (5,1),\n",
        "      nb_filters=64,\n",
        "      dilations=(1, 2, 4, 8, 16, 32),\n",
        "      activation='relu',\n",
        "      padding='causal',       \n",
        "))\n",
        "model.add(Dense(500, input_dim=500, kernel_initializer='he_uniform', activation='relu'))\n",
        "model.add(Dense(500, input_dim=500, kernel_initializer='he_uniform', activation='relu'))\n",
        "model.add(Dense(500, input_dim=500, kernel_initializer='he_uniform', activation='relu'))\n",
        "model.add(Dense(500, input_dim=500, kernel_initializer='he_uniform', activation='relu'))\n",
        "model.add(Dense(6))\n",
        "\n",
        "model.summary()\n",
        "\n",
        "model.compile(loss='mae', optimizer='adam')\n"
      ]
    },
    {
      "cell_type": "code",
      "source": [
        "\n",
        "model.fit(X_train1, y_train1, epochs=50, batch_size=32,validation_split=0.15,validation_data=None,verbose=1)"
      ],
      "metadata": {
        "colab": {
          "base_uri": "https://localhost:8080/"
        },
        "id": "l_MepdeEPK_X",
        "outputId": "09f60e0d-9190-49ea-e8ef-741d85a1215c"
      },
      "id": "l_MepdeEPK_X",
      "execution_count": 15,
      "outputs": [
        {
          "output_type": "stream",
          "name": "stdout",
          "text": [
            "Epoch 1/50\n",
            "114/114 [==============================] - 13s 75ms/step - loss: 18.9065 - val_loss: 17.8830\n",
            "Epoch 2/50\n",
            "114/114 [==============================] - 8s 68ms/step - loss: 12.5422 - val_loss: 19.3197\n",
            "Epoch 3/50\n",
            "114/114 [==============================] - 8s 69ms/step - loss: 11.0772 - val_loss: 18.8706\n",
            "Epoch 4/50\n",
            "114/114 [==============================] - 7s 61ms/step - loss: 10.3833 - val_loss: 17.4950\n",
            "Epoch 5/50\n",
            "114/114 [==============================] - 4s 39ms/step - loss: 10.2917 - val_loss: 19.7906\n",
            "Epoch 6/50\n",
            "114/114 [==============================] - 5s 40ms/step - loss: 9.9313 - val_loss: 22.0176\n",
            "Epoch 7/50\n",
            "114/114 [==============================] - 4s 39ms/step - loss: 10.2518 - val_loss: 21.9245\n",
            "Epoch 8/50\n",
            "114/114 [==============================] - 5s 40ms/step - loss: 10.0323 - val_loss: 23.0562\n",
            "Epoch 9/50\n",
            "114/114 [==============================] - 5s 40ms/step - loss: 10.0980 - val_loss: 18.1561\n",
            "Epoch 10/50\n",
            "114/114 [==============================] - 5s 40ms/step - loss: 9.3237 - val_loss: 21.5098\n",
            "Epoch 11/50\n",
            "114/114 [==============================] - 4s 39ms/step - loss: 9.8429 - val_loss: 20.2909\n",
            "Epoch 12/50\n",
            "114/114 [==============================] - 4s 39ms/step - loss: 9.1653 - val_loss: 21.5009\n",
            "Epoch 13/50\n",
            "114/114 [==============================] - 5s 40ms/step - loss: 9.2258 - val_loss: 22.2193\n",
            "Epoch 14/50\n",
            "114/114 [==============================] - 5s 40ms/step - loss: 9.1616 - val_loss: 19.3820\n",
            "Epoch 15/50\n",
            "114/114 [==============================] - 5s 40ms/step - loss: 9.2729 - val_loss: 20.4608\n",
            "Epoch 16/50\n",
            "114/114 [==============================] - 5s 40ms/step - loss: 9.0185 - val_loss: 20.0838\n",
            "Epoch 17/50\n",
            "114/114 [==============================] - 5s 40ms/step - loss: 8.9124 - val_loss: 22.2216\n",
            "Epoch 18/50\n",
            "114/114 [==============================] - 4s 39ms/step - loss: 8.9290 - val_loss: 21.1683\n",
            "Epoch 19/50\n",
            "114/114 [==============================] - 5s 40ms/step - loss: 8.9378 - val_loss: 20.9989\n",
            "Epoch 20/50\n",
            "114/114 [==============================] - 5s 40ms/step - loss: 8.7943 - val_loss: 22.1183\n",
            "Epoch 21/50\n",
            "114/114 [==============================] - 4s 39ms/step - loss: 8.8172 - val_loss: 19.3804\n",
            "Epoch 22/50\n",
            "114/114 [==============================] - 5s 39ms/step - loss: 8.8262 - val_loss: 19.4916\n",
            "Epoch 23/50\n",
            "114/114 [==============================] - 4s 39ms/step - loss: 9.0577 - val_loss: 19.6063\n",
            "Epoch 24/50\n",
            "114/114 [==============================] - 5s 40ms/step - loss: 8.6046 - val_loss: 22.1172\n",
            "Epoch 25/50\n",
            "114/114 [==============================] - 4s 39ms/step - loss: 8.6432 - val_loss: 20.4880\n",
            "Epoch 26/50\n",
            "114/114 [==============================] - 5s 45ms/step - loss: 8.8930 - val_loss: 20.4278\n",
            "Epoch 27/50\n",
            "114/114 [==============================] - 4s 39ms/step - loss: 8.4258 - val_loss: 20.7187\n",
            "Epoch 28/50\n",
            "114/114 [==============================] - 5s 40ms/step - loss: 8.4386 - val_loss: 21.9608\n",
            "Epoch 29/50\n",
            "114/114 [==============================] - 5s 40ms/step - loss: 8.4434 - val_loss: 19.5469\n",
            "Epoch 30/50\n",
            "114/114 [==============================] - 5s 40ms/step - loss: 8.7487 - val_loss: 22.6404\n",
            "Epoch 31/50\n",
            "114/114 [==============================] - 5s 40ms/step - loss: 8.5327 - val_loss: 20.7677\n",
            "Epoch 32/50\n",
            "114/114 [==============================] - 5s 39ms/step - loss: 8.3599 - val_loss: 20.1749\n",
            "Epoch 33/50\n",
            "114/114 [==============================] - 5s 40ms/step - loss: 8.1144 - val_loss: 19.6556\n",
            "Epoch 34/50\n",
            "114/114 [==============================] - 5s 40ms/step - loss: 8.4778 - val_loss: 20.9785\n",
            "Epoch 35/50\n",
            "114/114 [==============================] - 5s 40ms/step - loss: 8.2886 - val_loss: 21.0998\n",
            "Epoch 36/50\n",
            "114/114 [==============================] - 5s 40ms/step - loss: 8.4449 - val_loss: 21.3440\n",
            "Epoch 37/50\n",
            "114/114 [==============================] - 5s 40ms/step - loss: 8.1941 - val_loss: 19.9581\n",
            "Epoch 38/50\n",
            "114/114 [==============================] - 4s 39ms/step - loss: 8.3123 - val_loss: 21.0536\n",
            "Epoch 39/50\n",
            "114/114 [==============================] - 5s 40ms/step - loss: 8.2727 - val_loss: 19.4557\n",
            "Epoch 40/50\n",
            "114/114 [==============================] - 5s 40ms/step - loss: 8.3086 - val_loss: 19.6689\n",
            "Epoch 41/50\n",
            "114/114 [==============================] - 5s 40ms/step - loss: 8.1636 - val_loss: 19.7381\n",
            "Epoch 42/50\n",
            "114/114 [==============================] - 5s 40ms/step - loss: 8.2084 - val_loss: 19.7819\n",
            "Epoch 43/50\n",
            "114/114 [==============================] - 5s 40ms/step - loss: 8.1989 - val_loss: 19.4140\n",
            "Epoch 44/50\n",
            "114/114 [==============================] - 5s 40ms/step - loss: 8.0541 - val_loss: 19.6656\n",
            "Epoch 45/50\n",
            "114/114 [==============================] - 5s 40ms/step - loss: 7.9203 - val_loss: 20.6370\n",
            "Epoch 46/50\n",
            "114/114 [==============================] - 5s 40ms/step - loss: 8.1138 - val_loss: 18.6940\n",
            "Epoch 47/50\n",
            "114/114 [==============================] - 5s 40ms/step - loss: 7.9042 - val_loss: 20.4675\n",
            "Epoch 48/50\n",
            "114/114 [==============================] - 5s 40ms/step - loss: 8.1293 - val_loss: 19.2951\n",
            "Epoch 49/50\n",
            "114/114 [==============================] - 5s 46ms/step - loss: 8.3155 - val_loss: 19.2969\n",
            "Epoch 50/50\n",
            "114/114 [==============================] - 5s 39ms/step - loss: 7.8168 - val_loss: 20.1517\n"
          ]
        },
        {
          "output_type": "execute_result",
          "data": {
            "text/plain": [
              "<keras.callbacks.History at 0x7ff8e6b15150>"
            ]
          },
          "metadata": {},
          "execution_count": 15
        }
      ]
    },
    {
      "cell_type": "code",
      "source": [
        "pred = model.predict(X_test1)\n"
      ],
      "metadata": {
        "id": "2AUeWo52U0dZ"
      },
      "id": "2AUeWo52U0dZ",
      "execution_count": 16,
      "outputs": []
    },
    {
      "cell_type": "code",
      "source": [
        "vent_pred = pred[:,[0,]]\n",
        "vent_pred = np.asarray(vent_pred).reshape(-1)\n",
        "\n",
        "vent_test = y_test1[:,[0,]]\n",
        "vent_test = np.asarray(vent_test).reshape(-1)"
      ],
      "metadata": {
        "id": "-Mc13r0ccSMQ"
      },
      "id": "-Mc13r0ccSMQ",
      "execution_count": 17,
      "outputs": []
    },
    {
      "cell_type": "code",
      "source": [
        "plt.plot(vent_pred, label='Predicted Value') #plot the loss\n",
        "plt.plot(vent_test, label='True Value') #plot the validation loss\n",
        "plt.legend(['Predicted Value', 'True Value'], loc='upper right')\n",
        "plt.title('Graph for Ventillation Prediction')"
      ],
      "metadata": {
        "colab": {
          "base_uri": "https://localhost:8080/",
          "height": 298
        },
        "id": "n_lJS-rkcmDu",
        "outputId": "c3e82b3d-1f7b-4940-93ca-1454b0f67b98"
      },
      "id": "n_lJS-rkcmDu",
      "execution_count": 18,
      "outputs": [
        {
          "output_type": "execute_result",
          "data": {
            "text/plain": [
              "Text(0.5, 1.0, 'Graph for Ventillation Prediction')"
            ]
          },
          "metadata": {},
          "execution_count": 18
        },
        {
          "output_type": "display_data",
          "data": {
            "text/plain": [
              "<Figure size 432x288 with 1 Axes>"
            ],
            "image/png": "[encoded data removed]"
          },
          "metadata": {
            "needs_background": "light"
          }
        }
      ]
    },
    {
      "cell_type": "code",
      "source": [
        "from sklearn.metrics import mean_absolute_error as mae\n",
        "\n",
        "print(\"Mean Absolute Error is: \", mae(vent_test,vent_pred))"
      ],
      "metadata": {
        "id": "SceFKLxnc4ZE",
        "outputId": "93571dc0-3a62-4894-c48e-b770edade590",
        "colab": {
          "base_uri": "https://localhost:8080/"
        }
      },
      "id": "SceFKLxnc4ZE",
      "execution_count": 19,
      "outputs": [
        {
          "output_type": "stream",
          "name": "stdout",
          "text": [
            "Mean Absolute Error is:  24.251259483265844\n"
          ]
        }
      ]
    },
    {
      "cell_type": "code",
      "source": [
        "plug_pred = pred[:,[1,]]\n",
        "plug_pred = np.asarray(plug_pred).reshape(-1)\n",
        "\n",
        "plug_test = y_test1[:,[1,]]\n",
        "plug_test = np.asarray(plug_test).reshape(-1)"
      ],
      "metadata": {
        "id": "m0zEyDOoYzaK"
      },
      "id": "m0zEyDOoYzaK",
      "execution_count": 20,
      "outputs": []
    },
    {
      "cell_type": "code",
      "source": [
        "plt.plot(plug_pred, label='Predicted Value') #plot the loss\n",
        "plt.plot(plug_test, label='True Value') #plot the validation loss\n",
        "plt.legend(['Predicted Value', 'True Value'], loc='upper right')\n",
        "plt.title('Graph for Socket Plug Prediction')"
      ],
      "metadata": {
        "colab": {
          "base_uri": "https://localhost:8080/",
          "height": 298
        },
        "id": "oVYZg0ZwY2z3",
        "outputId": "7f34696c-d5d3-47c6-e90c-8f8312f39c9a"
      },
      "id": "oVYZg0ZwY2z3",
      "execution_count": 21,
      "outputs": [
        {
          "output_type": "execute_result",
          "data": {
            "text/plain": [
              "Text(0.5, 1.0, 'Graph for Socket Plug Prediction')"
            ]
          },
          "metadata": {},
          "execution_count": 21
        },
        {
          "output_type": "display_data",
          "data": {
            "text/plain": [
              "<Figure size 432x288 with 1 Axes>"
            ],
            "image/png": "[encoded data removed]"
          },
          "metadata": {
            "needs_background": "light"
          }
        }
      ]
    },
    {
      "cell_type": "code",
      "source": [
        "from sklearn.metrics import mean_absolute_error as mae\n",
        "\n",
        "print(\"Mean Absolute Error is: \", mae(plug_test,plug_pred))"
      ],
      "metadata": {
        "colab": {
          "base_uri": "https://localhost:8080/"
        },
        "id": "o87ElRwOY-0F",
        "outputId": "0da768ac-1191-480e-ae75-1ad1f76263a8"
      },
      "id": "o87ElRwOY-0F",
      "execution_count": 22,
      "outputs": [
        {
          "output_type": "stream",
          "name": "stdout",
          "text": [
            "Mean Absolute Error is:  9.872182331588766\n"
          ]
        }
      ]
    },
    {
      "cell_type": "code",
      "source": [
        "light_pred = pred[:,[2,]]\n",
        "light_pred = np.asarray(light_pred).reshape(-1)\n",
        "\n",
        "light_test = y_test1[:,[2,]]\n",
        "light_test = np.asarray(light_test).reshape(-1)"
      ],
      "metadata": {
        "id": "mwj0_BHIeGUi"
      },
      "id": "mwj0_BHIeGUi",
      "execution_count": 23,
      "outputs": []
    },
    {
      "cell_type": "code",
      "source": [
        "plt.plot(light_pred, label='Predicted Value') #plot the loss\n",
        "plt.plot(light_test, label='True Value') #plot the validation loss\n",
        "plt.legend(['Predicted Value', 'True Value'], loc='upper right')\n",
        "plt.title('Graph for Lighting Prediction')"
      ],
      "metadata": {
        "colab": {
          "base_uri": "https://localhost:8080/",
          "height": 298
        },
        "id": "EpLtYOuYeQnI",
        "outputId": "4ad28ee3-1ebf-408e-80c2-b6d2c5ecade7"
      },
      "id": "EpLtYOuYeQnI",
      "execution_count": 24,
      "outputs": [
        {
          "output_type": "execute_result",
          "data": {
            "text/plain": [
              "Text(0.5, 1.0, 'Graph for Lighting Prediction')"
            ]
          },
          "metadata": {},
          "execution_count": 24
        },
        {
          "output_type": "display_data",
          "data": {
            "text/plain": [
              "<Figure size 432x288 with 1 Axes>"
            ],
            "image/png": "[encoded data removed]"
          },
          "metadata": {
            "needs_background": "light"
          }
        }
      ]
    },
    {
      "cell_type": "code",
      "source": [
        "from sklearn.metrics import mean_absolute_error as mae\n",
        "\n",
        "print(\"Mean Absolute Error is: \", mae(light_test,light_pred))"
      ],
      "metadata": {
        "colab": {
          "base_uri": "https://localhost:8080/"
        },
        "id": "1nlAgxvIepNU",
        "outputId": "8e82f4a4-d75b-49e3-ad85-8bd3d540a4c7"
      },
      "id": "1nlAgxvIepNU",
      "execution_count": 25,
      "outputs": [
        {
          "output_type": "stream",
          "name": "stdout",
          "text": [
            "Mean Absolute Error is:  9.2151402027025\n"
          ]
        }
      ]
    },
    {
      "cell_type": "code",
      "source": [
        "other_pred = pred[:,[3,]]\n",
        "other_pred = np.asarray(other_pred).reshape(-1)\n",
        "\n",
        "other_test = y_test1[:,[3,]]\n",
        "other_test = np.asarray(other_test).reshape(-1)"
      ],
      "metadata": {
        "id": "s-SfKrLveS-9"
      },
      "id": "s-SfKrLveS-9",
      "execution_count": 26,
      "outputs": []
    },
    {
      "cell_type": "code",
      "source": [
        "plt.plot(other_pred, label='Predicted Value') #plot the loss\n",
        "plt.plot(other_test, label='True Value') #plot the validation loss\n",
        "plt.legend(['Predicted Value', 'True Value'], loc='upper right')\n",
        "plt.title('Graph for Other Electricity Prediction')"
      ],
      "metadata": {
        "colab": {
          "base_uri": "https://localhost:8080/",
          "height": 298
        },
        "id": "23v9UWGheVue",
        "outputId": "4aaeec49-3e95-4779-9ede-ed860863b693"
      },
      "id": "23v9UWGheVue",
      "execution_count": 27,
      "outputs": [
        {
          "output_type": "execute_result",
          "data": {
            "text/plain": [
              "Text(0.5, 1.0, 'Graph for Other Electricity Prediction')"
            ]
          },
          "metadata": {},
          "execution_count": 27
        },
        {
          "output_type": "display_data",
          "data": {
            "text/plain": [
              "<Figure size 432x288 with 1 Axes>"
            ],
            "image/png": "[encoded data removed]"
          },
          "metadata": {
            "needs_background": "light"
          }
        }
      ]
    },
    {
      "cell_type": "code",
      "source": [
        "from sklearn.metrics import mean_absolute_error as mae\n",
        "\n",
        "print(\"Mean Absolute Error is: \", mae(other_test,other_pred))"
      ],
      "metadata": {
        "colab": {
          "base_uri": "https://localhost:8080/"
        },
        "id": "rmPrzP6LesbU",
        "outputId": "74bc0d85-da67-49be-9699-2842bcc431dc"
      },
      "id": "rmPrzP6LesbU",
      "execution_count": 28,
      "outputs": [
        {
          "output_type": "stream",
          "name": "stdout",
          "text": [
            "Mean Absolute Error is:  59.27212808547133\n"
          ]
        }
      ]
    },
    {
      "cell_type": "code",
      "source": [
        "cool_pred = pred[:,[4,]]\n",
        "cool_pred = np.asarray(cool_pred).reshape(-1)\n",
        "\n",
        "cool_test = y_test1[:,[4,]]\n",
        "cool_test = np.asarray(cool_test).reshape(-1)"
      ],
      "metadata": {
        "id": "CjCVwYqceX-v"
      },
      "id": "CjCVwYqceX-v",
      "execution_count": 29,
      "outputs": []
    },
    {
      "cell_type": "code",
      "source": [
        "plt.plot(cool_pred, label='Predicted Value') #plot the loss\n",
        "plt.plot(cool_test, label='True Value') #plot the validation loss\n",
        "plt.legend(['Predicted Value', 'True Value'], loc='upper right')\n",
        "plt.title('Graph for Cooling Prediction')"
      ],
      "metadata": {
        "colab": {
          "base_uri": "https://localhost:8080/",
          "height": 298
        },
        "id": "OwyGIMCyeaz_",
        "outputId": "44f41272-6628-43d4-ca3b-2e1815709cf5"
      },
      "id": "OwyGIMCyeaz_",
      "execution_count": 30,
      "outputs": [
        {
          "output_type": "execute_result",
          "data": {
            "text/plain": [
              "Text(0.5, 1.0, 'Graph for Cooling Prediction')"
            ]
          },
          "metadata": {},
          "execution_count": 30
        },
        {
          "output_type": "display_data",
          "data": {
            "text/plain": [
              "<Figure size 432x288 with 1 Axes>"
            ],
            "image/png": "[encoded data removed]"
          },
          "metadata": {
            "needs_background": "light"
          }
        }
      ]
    },
    {
      "cell_type": "code",
      "source": [
        "from sklearn.metrics import mean_absolute_error as mae\n",
        "\n",
        "print(\"Mean Absolute Error is: \", mae(cool_test,cool_pred))"
      ],
      "metadata": {
        "colab": {
          "base_uri": "https://localhost:8080/"
        },
        "id": "_EEfRwF9evux",
        "outputId": "0212dedd-e1b8-4d07-ed52-fa2cf65f57bc"
      },
      "id": "_EEfRwF9evux",
      "execution_count": 31,
      "outputs": [
        {
          "output_type": "stream",
          "name": "stdout",
          "text": [
            "Mean Absolute Error is:  8.258191892395091\n"
          ]
        }
      ]
    },
    {
      "cell_type": "code",
      "source": [
        "heat_pred = pred[:,[5,]]\n",
        "heat_pred = np.asarray(heat_pred).reshape(-1)\n",
        "\n",
        "heat_test = y_test1[:,[5,]]\n",
        "heat_test = np.asarray(heat_test).reshape(-1)"
      ],
      "metadata": {
        "id": "--LZih2Necvr"
      },
      "id": "--LZih2Necvr",
      "execution_count": 32,
      "outputs": []
    },
    {
      "cell_type": "code",
      "source": [
        "plt.plot(heat_pred, label='Predicted Value') #plot the loss\n",
        "plt.plot(heat_test, label='True Value') #plot the validation loss\n",
        "plt.legend(['Predicted Value', 'True Value'], loc='upper right')\n",
        "plt.title('Graph for Heating Prediction')"
      ],
      "metadata": {
        "colab": {
          "base_uri": "https://localhost:8080/",
          "height": 298
        },
        "id": "pCXIDc3Zeeox",
        "outputId": "cf47d3d9-7094-4f79-e12b-1f3eb3dafe13"
      },
      "id": "pCXIDc3Zeeox",
      "execution_count": 33,
      "outputs": [
        {
          "output_type": "execute_result",
          "data": {
            "text/plain": [
              "Text(0.5, 1.0, 'Graph for Heating Prediction')"
            ]
          },
          "metadata": {},
          "execution_count": 33
        },
        {
          "output_type": "display_data",
          "data": {
            "text/plain": [
              "<Figure size 432x288 with 1 Axes>"
            ],
            "image/png": "[encoded data removed]"
          },
          "metadata": {
            "needs_background": "light"
          }
        }
      ]
    },
    {
      "cell_type": "code",
      "source": [
        "from sklearn.metrics import mean_absolute_error as mae\n",
        "\n",
        "print(\"Mean Absolute Error is: \", mae(heat_test,heat_pred))"
      ],
      "metadata": {
        "colab": {
          "base_uri": "https://localhost:8080/"
        },
        "id": "vYy8XfUweysW",
        "outputId": "d131abf0-12e4-4ae5-b94b-ec82649b3894"
      },
      "id": "vYy8XfUweysW",
      "execution_count": 34,
      "outputs": [
        {
          "output_type": "stream",
          "name": "stdout",
          "text": [
            "Mean Absolute Error is:  46.99875727454066\n"
          ]
        }
      ]
    }
  ],
  "metadata": {
    "kernelspec": {
      "display_name": "Python 3 (ipykernel)",
      "language": "python",
      "name": "python3"
    },
    "language_info": {
      "codemirror_mode": {
        "name": "ipython",
        "version": 3
      },
      "file_extension": ".py",
      "mimetype": "text/x-python",
      "name": "python",
      "nbconvert_exporter": "python",
      "pygments_lexer": "ipython3",
      "version": "3.9.7"
    },
    "colab": {
      "name": "Applying TCN on Winter of Grenoble Dataset from 17 to 19.ipynb",
      "provenance": []
    },
    "accelerator": "GPU"
  },
  "nbformat": 4,
  "nbformat_minor": 5
}